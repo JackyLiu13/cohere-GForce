{
 "cells": [
  {
   "cell_type": "markdown",
   "id": "66368ec5-0276-454f-b290-32e135455368",
   "metadata": {
    "id": "66368ec5-0276-454f-b290-32e135455368"
   },
   "source": [
    "# Entity Extraction with Generative Models\n",
    "\n",
    "This notebook demonstrates how to use Cohere's generative models to extract the name of a film from the title of an article. This demonstrates Named Entity Recognition (NER) of entities which are harder to isolate using other NLP methods (and where pre-training provides the model with some context on these entities). This also demonstrates the broader usecase of sturctured generation based on providing multiple examples in the prompt.\n",
    "\n",
    "\n",
    "\n",
    "![Extracting Entities from text](https://github.com/cohere-ai/notebooks/raw/main/notebooks/images/keyword-extraction-gpt-models.png)\n",
    "\n",
    "\n",
    "We'll use post titles from the r/Movies subreddit. And for each title, we'll extract which movie the post is about. If the model is unable to detect the name of a movie being mentioned, it will return \"none\".\n",
    "\n",
    "## Setup\n",
    "Let's start by installing the packages we need.\n",
    "\n",
    "!pip install cohere requests tqdm"
   ]
  },
  {
   "cell_type": "markdown",
   "id": "c1d1f58a-1a30-42bb-a443-e9227c4a4ff7",
   "metadata": {
    "id": "c1d1f58a-1a30-42bb-a443-e9227c4a4ff7"
   },
   "source": [
    "We'll then import these packages and declare the function that retrieves post titles from reddit."
   ]
  },
  {
   "cell_type": "code",
   "execution_count": 3,
   "id": "b9b83146-5648-40b7-8a26-6dba4e6ef6e0",
   "metadata": {
    "id": "b9b83146-5648-40b7-8a26-6dba4e6ef6e0"
   },
   "outputs": [],
   "source": [
    "import cohere\n",
    "import pandas as pd\n",
    "import requests\n",
    "import datetime\n",
    "from tqdm import tqdm\n",
    "pd.set_option('display.max_colwidth', None)\n",
    "\n",
    "def get_post_titles(**kwargs):\n",
    "    \"\"\" Gets data from the pushshift api. Read more: https://github.com/pushshift/api \"\"\"\n",
    "    base_url = f\"https://api.pushshift.io/reddit/search/submission/\"\n",
    "    payload = kwargs\n",
    "    request = requests.get(base_url, params=payload)\n",
    "    return [a['title'] for a in request.json()['data']]\n"
   ]
  },
  {
   "cell_type": "markdown",
   "id": "e78c4f33-3d35-448c-b511-e5150bbe951c",
   "metadata": {
    "id": "e78c4f33-3d35-448c-b511-e5150bbe951c"
   },
   "source": [
    "You'll need your API key for this next cell. [Sign up to Cohere](https://os.cohere.ai/) and get one if you haven't yet."
   ]
  },
  {
   "cell_type": "code",
   "execution_count": 4,
   "id": "9c1554a9-9203-4ca9-9711-aa9ce051721e",
   "metadata": {
    "id": "9c1554a9-9203-4ca9-9711-aa9ce051721e"
   },
   "outputs": [],
   "source": [
    "# Paste your API key here. Remember to not share publicly\n",
    "api_key = 'io6D71AQgkNeebtp3AsSff8MacqU0rfalhBGL00f'\n",
    "\n",
    "# Create and retrieve a Cohere API key from os.cohere.ai\n",
    "co = cohere.Client(api_key)"
   ]
  },
  {
   "cell_type": "markdown",
   "id": "edb17ad3-22f6-46f4-82f4-57b72f4ee973",
   "metadata": {
    "id": "edb17ad3-22f6-46f4-82f4-57b72f4ee973"
   },
   "source": [
    "## Preparing examples for the prompt\n",
    "\n",
    "In our prompt, we'll present the model with examples for the type of output we're after. We basically get a set of subreddit article titles, and label them ourselves. The label here is the name of the movie mentioned in the title (and \"none\" if no movie is mentioned).\n",
    "\n",
    "\n",
    "![Labeled dataset of text and extracted text](https://github.com/cohere-ai/notebooks/raw/main/notebooks/images/keyword-extraction-dataset.png)\n",
    "\n"
   ]
  },
  {
   "cell_type": "code",
   "execution_count": null,
   "id": "a10e6784-6e8b-4a17-83fd-ec34d90c90c6",
   "metadata": {
    "id": "a10e6784-6e8b-4a17-83fd-ec34d90c90c6",
    "tags": []
   },
   "outputs": [],
   "source": [
    "\n",
    "movie_examples = [\n",
    "(\"Deadpool 2\", \"Deadpool 2 | Official HD Deadpool's \\\"Wet on Wet\\\" Teaser | 2018\"),\n",
    "(\"none\", \"Jordan Peele Just Became the First Black Writer-Director With a $100M Movie Debut\"),\n",
    "(\"Joker\", \"Joker Officially Rated “R”\"),\n",
    "(\"Free Guy\", \"Ryan Reynolds’ 'Free Guy' Receives July 3, 2020 Release Date - About a bank teller stuck in his routine that discovers he’s an NPC character in brutal open world game.\"),\n",
    "(\"none\", \"James Cameron congratulates Kevin Feige and Marvel!\"),\n",
    "(\"Guardians of the Galaxy\", \"The Cast of Guardians of the Galaxy release statement on James Gunn\"),\n",
    "]\n"
   ]
  },
  {
   "cell_type": "markdown",
   "id": "fdc57403-013a-4e31-94f8-27c18702c770",
   "metadata": {
    "id": "fdc57403-013a-4e31-94f8-27c18702c770"
   },
   "source": [
    "\n",
    "\n",
    "## Creating the extraction prompt\n",
    "\n",
    "We'll create a prompt that demonstrates the task to the model. The prompt contains the examples above, and then presents the input text and asks the model to extract the movie name.\n",
    "\n",
    "\n",
    "![Extraction prompt containing the examples and the input text](https://github.com/cohere-ai/notebooks/raw/main/notebooks/images/extraction-prompt-example.png)\n"
   ]
  },
  {
   "cell_type": "code",
   "execution_count": 9,
   "id": "0ae89a2b-9f94-4e1e-8d00-378cc1b48149",
   "metadata": {
    "id": "0ae89a2b-9f94-4e1e-8d00-378cc1b48149"
   },
   "outputs": [
    {
     "name": "stdout",
     "output_type": "stream",
     "text": [
      "text1\n",
      "extract the movie title from the post:label1\n",
      "---\n",
      "text2\n",
      "extract the movie title from the post:label2\n",
      "---\n",
      "<input text here>\n",
      "extract the movie title from the post:\n"
     ]
    }
   ],
   "source": [
    "#@title Create the prompt (Run this cell to execute required code) {display-mode: \"form\"}\n",
    "\n",
    "class cohereExtractor():\n",
    "    def __init__(self, examples, example_labels, labels, task_description, example_prompt):\n",
    "        self.examples = examples\n",
    "        self.example_labels = example_labels\n",
    "        self.labels = labels\n",
    "        self.task_description = task_description\n",
    "        self.example_prompt = example_prompt\n",
    "\n",
    "    def make_prompt(self, example):\n",
    "        examples = self.examples + [example]\n",
    "        labels = self.example_labels + [\"\"]\n",
    "        return (self.task_description +\n",
    "                \"\\n---\\n\".join([examples[i] + \"\\n\" +\n",
    "                               self.example_prompt +\n",
    "                               labels[i] for i in range(len(examples))]))\n",
    "\n",
    "    def extract(self, example):\n",
    "        extraction = cohere.generate(\n",
    "            model='large',\n",
    "            prompt=self.make_prompt(example),\n",
    "            max_tokens=10,\n",
    "            temperature=0.1,\n",
    "            stop_sequences=[\"\\n\"])\n",
    "        return extraction.generations[0].text[:-1]\n",
    "\n",
    "# Placeholder for movie_examples - Replace this with your actual data\n",
    "movie_examples = [\n",
    "    (\"label1\", \"text1\"),\n",
    "    (\"label2\", \"text2\"),\n",
    "    # Add more examples as needed\n",
    "]\n",
    "\n",
    "cohereMovieExtractor = cohereExtractor([e[1] for e in movie_examples],\n",
    "                                       [e[0] for e in movie_examples], [],\n",
    "                                       \"\",\n",
    "                                       \"extract the movie title from the post:\")\n",
    "\n",
    "print(cohereMovieExtractor.make_prompt('<input text here>'))"
   ]
  },
  {
   "cell_type": "code",
   "execution_count": 10,
   "id": "Fw8V9H2EF16U",
   "metadata": {
    "colab": {
     "base_uri": "https://localhost:8080/"
    },
    "id": "Fw8V9H2EF16U",
    "outputId": "e60b28e9-7454-4e09-b658-8a56c7f1a553"
   },
   "outputs": [
    {
     "name": "stdout",
     "output_type": "stream",
     "text": [
      "text1\n",
      "extract the movie title from the post:label1\n",
      "---\n",
      "text2\n",
      "extract the movie title from the post:label2\n",
      "---\n",
      "<input text here>\n",
      "extract the movie title from the post:\n"
     ]
    }
   ],
   "source": [
    "# This is what the prompt looks like:\n",
    "print(cohereMovieExtractor.make_prompt('<input text here>'))"
   ]
  },
  {
   "cell_type": "markdown",
   "id": "aa02636a-eb2c-4096-a84e-5a8fb5f8249b",
   "metadata": {
    "id": "aa02636a-eb2c-4096-a84e-5a8fb5f8249b"
   },
   "source": [
    "## Getting the data\n",
    "Let's now make the API call to get the top posts for 2021 from r/movies."
   ]
  },
  {
   "cell_type": "code",
   "execution_count": 13,
   "id": "d569e098-d97e-41c2-93c7-7f10e09eb53d",
   "metadata": {
    "colab": {
     "base_uri": "https://localhost:8080/"
    },
    "id": "d569e098-d97e-41c2-93c7-7f10e09eb53d",
    "outputId": "2ba5a845-b009-42c7-f783-ea8d005ec3bc"
   },
   "outputs": [
    {
     "name": "stdout",
     "output_type": "stream",
     "text": [
      "Error: 'data' key not found in the JSON response.\n"
     ]
    },
    {
     "data": {
      "text/plain": [
       "[]"
      ]
     },
     "execution_count": 13,
     "metadata": {},
     "output_type": "execute_result"
    }
   ],
   "source": [
    "def get_post_titles(**kwargs):\n",
    "    \"\"\"Gets data from the pushshift api. Read more: https://github.com/pushshift/api\"\"\"\n",
    "    base_url = f\"https://api.pushshift.io/reddit/search/submission/\"\n",
    "    payload = kwargs\n",
    "    request = requests.get(base_url, params=payload)\n",
    "    \n",
    "    # Check if 'data' key exists in the response\n",
    "    if 'data' in request.json():\n",
    "        return [a['title'] for a in request.json()['data']]\n",
    "    else:\n",
    "        # Handle the case where 'data' key is not present\n",
    "        print(\"Error: 'data' key not found in the JSON response.\")\n",
    "        return []\n",
    "\n",
    "# Define the number of posts to retrieve\n",
    "num_posts = 10\n",
    "\n",
    "# Retrieve movie titles from the \"movies\" subreddit within a specific time range\n",
    "movies_list = get_post_titles(\n",
    "    size=num_posts,\n",
    "    after=str(int(datetime.datetime(2021, 1, 1, 0, 0).timestamp())),\n",
    "    before=str(int(datetime.datetime(2022, 1, 1, 0, 0).timestamp())),\n",
    "    subreddit=\"movies\",\n",
    "    sort_type=\"score\",\n",
    "    sort=\"desc\"\n",
    ")\n",
    "\n",
    "# Show the list of movie titles\n",
    "movies_list"
   ]
  },
  {
   "cell_type": "markdown",
   "id": "29be719c-6ac9-49e1-a01c-e9ecac01c681",
   "metadata": {
    "id": "29be719c-6ac9-49e1-a01c-e9ecac01c681"
   },
   "source": [
    "## Running the model\n",
    "And now we loop over the posts and process each one of them with our extractor."
   ]
  },
  {
   "cell_type": "code",
   "execution_count": 14,
   "id": "999dad3e-7152-440d-bec9-ae8a89f10b8f",
   "metadata": {
    "colab": {
     "base_uri": "https://localhost:8080/"
    },
    "id": "999dad3e-7152-440d-bec9-ae8a89f10b8f",
    "outputId": "40c8ce64-793b-42bf-b44e-8ee07c0a7379",
    "tags": []
   },
   "outputs": [
    {
     "name": "stderr",
     "output_type": "stream",
     "text": [
      "0it [00:00, ?it/s]\n"
     ]
    }
   ],
   "source": [
    "results = []\n",
    "for text in tqdm(movies_list):\n",
    "    try:\n",
    "        extracted_text = cohereMovieExtractor.extract(text)\n",
    "        results.append(extracted_text)\n",
    "    except Exception as e:\n",
    "        print('ERROR: ', e)"
   ]
  },
  {
   "cell_type": "markdown",
   "id": "a6a56981-5320-47d9-96bf-cf2b90278964",
   "metadata": {
    "id": "a6a56981-5320-47d9-96bf-cf2b90278964"
   },
   "source": [
    "Let's look at the results:"
   ]
  },
  {
   "cell_type": "code",
   "execution_count": 15,
   "id": "296d7bde-c01e-48e2-bf41-24624307eca7",
   "metadata": {
    "colab": {
     "base_uri": "https://localhost:8080/",
     "height": 459
    },
    "id": "296d7bde-c01e-48e2-bf41-24624307eca7",
    "outputId": "9c1199cc-acaf-4cc7-93ff-0e51f4e7a149"
   },
   "outputs": [
    {
     "data": {
      "text/html": [
       "<div>\n",
       "<style scoped>\n",
       "    .dataframe tbody tr th:only-of-type {\n",
       "        vertical-align: middle;\n",
       "    }\n",
       "\n",
       "    .dataframe tbody tr th {\n",
       "        vertical-align: top;\n",
       "    }\n",
       "\n",
       "    .dataframe thead th {\n",
       "        text-align: right;\n",
       "    }\n",
       "</style>\n",
       "<table border=\"1\" class=\"dataframe\">\n",
       "  <thead>\n",
       "    <tr style=\"text-align: right;\">\n",
       "      <th></th>\n",
       "      <th>text</th>\n",
       "      <th>extracted_text</th>\n",
       "    </tr>\n",
       "  </thead>\n",
       "  <tbody>\n",
       "  </tbody>\n",
       "</table>\n",
       "</div>"
      ],
      "text/plain": [
       "Empty DataFrame\n",
       "Columns: [text, extracted_text]\n",
       "Index: []"
      ]
     },
     "execution_count": 15,
     "metadata": {},
     "output_type": "execute_result"
    }
   ],
   "source": [
    "pd.DataFrame(data={'text': movies_list, 'extracted_text': results})"
   ]
  },
  {
   "cell_type": "markdown",
   "id": "8ce85595-0aca-43d1-9d27-dd2954919970",
   "metadata": {
    "id": "8ce85595-0aca-43d1-9d27-dd2954919970"
   },
   "source": [
    "Looking at these results, the model got 9/10 correctly. It didn't pick up on Shaolin Soccer and God of Gambler in example \\#4. It also called the second example \"Pixar's Luca\" instead of \"Luca\". But maybe we'll let this one slide.\n",
    "\n",
    "When experimenting with extrction prompts, we'll often find edge-cases along the way. What if a post has two movies mentioned, for example? The more we run into such examples, the more examples we can add to the prompt that address these cases.\n",
    "\n",
    "## How well does this work?\n",
    "We can better measure the performance of this extraction method using a larger labeled dataset. So let's load a test set of 100 examples:"
   ]
  },
  {
   "cell_type": "code",
   "execution_count": 16,
   "id": "f39dd295-debd-48d3-ad30-76068e4e47e6",
   "metadata": {
    "colab": {
     "base_uri": "https://localhost:8080/",
     "height": 423
    },
    "id": "f39dd295-debd-48d3-ad30-76068e4e47e6",
    "outputId": "6ca66b6d-effe-4f37-bc6b-b578e737b553",
    "tags": []
   },
   "outputs": [
    {
     "data": {
      "text/html": [
       "<div>\n",
       "<style scoped>\n",
       "    .dataframe tbody tr th:only-of-type {\n",
       "        vertical-align: middle;\n",
       "    }\n",
       "\n",
       "    .dataframe tbody tr th {\n",
       "        vertical-align: top;\n",
       "    }\n",
       "\n",
       "    .dataframe thead th {\n",
       "        text-align: right;\n",
       "    }\n",
       "</style>\n",
       "<table border=\"1\" class=\"dataframe\">\n",
       "  <thead>\n",
       "    <tr style=\"text-align: right;\">\n",
       "      <th></th>\n",
       "      <th>text</th>\n",
       "      <th>label</th>\n",
       "    </tr>\n",
       "  </thead>\n",
       "  <tbody>\n",
       "    <tr>\n",
       "      <th>0</th>\n",
       "      <td>Disney's streaming service loses some movies due to old licensing deals</td>\n",
       "      <td>none</td>\n",
       "    </tr>\n",
       "    <tr>\n",
       "      <th>1</th>\n",
       "      <td>Hi, I’m Sam Raimi, producer of THE GRUDGE which hits theaters tonight. Ask Me Anything!</td>\n",
       "      <td>The Grudge</td>\n",
       "    </tr>\n",
       "    <tr>\n",
       "      <th>2</th>\n",
       "      <td>'Parasite' Named Best Picture by Australia's AACTA Awards</td>\n",
       "      <td>Parasite</td>\n",
       "    </tr>\n",
       "    <tr>\n",
       "      <th>3</th>\n",
       "      <td>Danny Trejo To Star In Vampire Spaghetti Western ‘Death Rider in the House of Vampires’</td>\n",
       "      <td>Death Rider in the House of Vampires</td>\n",
       "    </tr>\n",
       "    <tr>\n",
       "      <th>4</th>\n",
       "      <td>I really wish the 'realistic' CGI animal trend would end.</td>\n",
       "      <td>none</td>\n",
       "    </tr>\n",
       "    <tr>\n",
       "      <th>...</th>\n",
       "      <td>...</td>\n",
       "      <td>...</td>\n",
       "    </tr>\n",
       "    <tr>\n",
       "      <th>95</th>\n",
       "      <td>Hair Love | Oscar Winning Short Film (Full)</td>\n",
       "      <td>Hair Love</td>\n",
       "    </tr>\n",
       "    <tr>\n",
       "      <th>96</th>\n",
       "      <td>First image of Jason Alexander in Christian film industry satire 'Faith Based'</td>\n",
       "      <td>Faith Based</td>\n",
       "    </tr>\n",
       "    <tr>\n",
       "      <th>97</th>\n",
       "      <td>'Borderlands' Movie in the Works From Eli Roth, Lionsgate</td>\n",
       "      <td>Borderlands</td>\n",
       "    </tr>\n",
       "    <tr>\n",
       "      <th>98</th>\n",
       "      <td>Taika Waititi putting his Oscar \"away\" after winning best adapted screenplay for JOJO RABBIT</td>\n",
       "      <td>Jojo Rabbit</td>\n",
       "    </tr>\n",
       "    <tr>\n",
       "      <th>99</th>\n",
       "      <td>Oscar-Winning 'Parasite' Lands One-Week IMAX Release Starting February 21 in 200+ Theaters</td>\n",
       "      <td>Parasite</td>\n",
       "    </tr>\n",
       "  </tbody>\n",
       "</table>\n",
       "<p>100 rows × 2 columns</p>\n",
       "</div>"
      ],
      "text/plain": [
       "                                                                                            text  \\\n",
       "0                        Disney's streaming service loses some movies due to old licensing deals   \n",
       "1        Hi, I’m Sam Raimi, producer of THE GRUDGE which hits theaters tonight. Ask Me Anything!   \n",
       "2                                      'Parasite' Named Best Picture by Australia's AACTA Awards   \n",
       "3        Danny Trejo To Star In Vampire Spaghetti Western ‘Death Rider in the House of Vampires’   \n",
       "4                                      I really wish the 'realistic' CGI animal trend would end.   \n",
       "..                                                                                           ...   \n",
       "95                                                   Hair Love | Oscar Winning Short Film (Full)   \n",
       "96                First image of Jason Alexander in Christian film industry satire 'Faith Based'   \n",
       "97                                     'Borderlands' Movie in the Works From Eli Roth, Lionsgate   \n",
       "98  Taika Waititi putting his Oscar \"away\" after winning best adapted screenplay for JOJO RABBIT   \n",
       "99    Oscar-Winning 'Parasite' Lands One-Week IMAX Release Starting February 21 in 200+ Theaters   \n",
       "\n",
       "                                   label  \n",
       "0                                   none  \n",
       "1                             The Grudge  \n",
       "2                               Parasite  \n",
       "3   Death Rider in the House of Vampires  \n",
       "4                                   none  \n",
       "..                                   ...  \n",
       "95                             Hair Love  \n",
       "96                           Faith Based  \n",
       "97                           Borderlands  \n",
       "98                           Jojo Rabbit  \n",
       "99                              Parasite  \n",
       "\n",
       "[100 rows x 2 columns]"
      ]
     },
     "execution_count": 16,
     "metadata": {},
     "output_type": "execute_result"
    }
   ],
   "source": [
    "test_df = pd.read_csv('https://raw.githubusercontent.com/cohere-ai/notebooks/main/notebooks/data/movie_extraction_test_set_100.csv',index_col=0)\n",
    "test_df"
   ]
  },
  {
   "cell_type": "markdown",
   "id": "f57acd7d-4da3-4ef1-9488-556d9474fc59",
   "metadata": {
    "id": "f57acd7d-4da3-4ef1-9488-556d9474fc59"
   },
   "source": [
    "Let's run the extractor on these post titles (calling the API in parallel for quicker results):"
   ]
  },
  {
   "cell_type": "code",
   "execution_count": 17,
   "id": "db5e9ff7-96fd-434f-859d-332866839af5",
   "metadata": {
    "id": "db5e9ff7-96fd-434f-859d-332866839af5"
   },
   "outputs": [
    {
     "ename": "AttributeError",
     "evalue": "module 'cohere' has no attribute 'generate'",
     "output_type": "error",
     "traceback": [
      "\u001b[0;31m---------------------------------------------------------------------------\u001b[0m",
      "\u001b[0;31mAttributeError\u001b[0m                            Traceback (most recent call last)",
      "Cell \u001b[0;32mIn[17], line 6\u001b[0m\n\u001b[1;32m      4\u001b[0m \u001b[39m# Run the model to extract the entities\u001b[39;00m\n\u001b[1;32m      5\u001b[0m \u001b[39mwith\u001b[39;00m ThreadPoolExecutor(max_workers\u001b[39m=\u001b[39m\u001b[39m8\u001b[39m) \u001b[39mas\u001b[39;00m executor:\n\u001b[0;32m----> 6\u001b[0m     \u001b[39mfor\u001b[39;00m i \u001b[39min\u001b[39;00m executor\u001b[39m.\u001b[39mmap(cohereMovieExtractor\u001b[39m.\u001b[39mextract, test_df[\u001b[39m'\u001b[39m\u001b[39mtext\u001b[39m\u001b[39m'\u001b[39m]):\n\u001b[1;32m      7\u001b[0m         extracted\u001b[39m.\u001b[39mappend(\u001b[39mstr\u001b[39m(i)\u001b[39m.\u001b[39mstrip())\n\u001b[1;32m      8\u001b[0m \u001b[39m# Save results\u001b[39;00m\n",
      "File \u001b[0;32m~/miniconda3/lib/python3.10/concurrent/futures/_base.py:621\u001b[0m, in \u001b[0;36mExecutor.map.<locals>.result_iterator\u001b[0;34m()\u001b[0m\n\u001b[1;32m    618\u001b[0m \u001b[39mwhile\u001b[39;00m fs:\n\u001b[1;32m    619\u001b[0m     \u001b[39m# Careful not to keep a reference to the popped future\u001b[39;00m\n\u001b[1;32m    620\u001b[0m     \u001b[39mif\u001b[39;00m timeout \u001b[39mis\u001b[39;00m \u001b[39mNone\u001b[39;00m:\n\u001b[0;32m--> 621\u001b[0m         \u001b[39myield\u001b[39;00m _result_or_cancel(fs\u001b[39m.\u001b[39;49mpop())\n\u001b[1;32m    622\u001b[0m     \u001b[39melse\u001b[39;00m:\n\u001b[1;32m    623\u001b[0m         \u001b[39myield\u001b[39;00m _result_or_cancel(fs\u001b[39m.\u001b[39mpop(), end_time \u001b[39m-\u001b[39m time\u001b[39m.\u001b[39mmonotonic())\n",
      "File \u001b[0;32m~/miniconda3/lib/python3.10/concurrent/futures/_base.py:319\u001b[0m, in \u001b[0;36m_result_or_cancel\u001b[0;34m(***failed resolving arguments***)\u001b[0m\n\u001b[1;32m    317\u001b[0m \u001b[39mtry\u001b[39;00m:\n\u001b[1;32m    318\u001b[0m     \u001b[39mtry\u001b[39;00m:\n\u001b[0;32m--> 319\u001b[0m         \u001b[39mreturn\u001b[39;00m fut\u001b[39m.\u001b[39;49mresult(timeout)\n\u001b[1;32m    320\u001b[0m     \u001b[39mfinally\u001b[39;00m:\n\u001b[1;32m    321\u001b[0m         fut\u001b[39m.\u001b[39mcancel()\n",
      "File \u001b[0;32m~/miniconda3/lib/python3.10/concurrent/futures/_base.py:451\u001b[0m, in \u001b[0;36mFuture.result\u001b[0;34m(self, timeout)\u001b[0m\n\u001b[1;32m    449\u001b[0m     \u001b[39mraise\u001b[39;00m CancelledError()\n\u001b[1;32m    450\u001b[0m \u001b[39melif\u001b[39;00m \u001b[39mself\u001b[39m\u001b[39m.\u001b[39m_state \u001b[39m==\u001b[39m FINISHED:\n\u001b[0;32m--> 451\u001b[0m     \u001b[39mreturn\u001b[39;00m \u001b[39mself\u001b[39;49m\u001b[39m.\u001b[39;49m__get_result()\n\u001b[1;32m    453\u001b[0m \u001b[39mself\u001b[39m\u001b[39m.\u001b[39m_condition\u001b[39m.\u001b[39mwait(timeout)\n\u001b[1;32m    455\u001b[0m \u001b[39mif\u001b[39;00m \u001b[39mself\u001b[39m\u001b[39m.\u001b[39m_state \u001b[39min\u001b[39;00m [CANCELLED, CANCELLED_AND_NOTIFIED]:\n",
      "File \u001b[0;32m~/miniconda3/lib/python3.10/concurrent/futures/_base.py:403\u001b[0m, in \u001b[0;36mFuture.__get_result\u001b[0;34m(self)\u001b[0m\n\u001b[1;32m    401\u001b[0m \u001b[39mif\u001b[39;00m \u001b[39mself\u001b[39m\u001b[39m.\u001b[39m_exception:\n\u001b[1;32m    402\u001b[0m     \u001b[39mtry\u001b[39;00m:\n\u001b[0;32m--> 403\u001b[0m         \u001b[39mraise\u001b[39;00m \u001b[39mself\u001b[39m\u001b[39m.\u001b[39m_exception\n\u001b[1;32m    404\u001b[0m     \u001b[39mfinally\u001b[39;00m:\n\u001b[1;32m    405\u001b[0m         \u001b[39m# Break a reference cycle with the exception in self._exception\u001b[39;00m\n\u001b[1;32m    406\u001b[0m         \u001b[39mself\u001b[39m \u001b[39m=\u001b[39m \u001b[39mNone\u001b[39;00m\n",
      "File \u001b[0;32m~/miniconda3/lib/python3.10/concurrent/futures/thread.py:58\u001b[0m, in \u001b[0;36m_WorkItem.run\u001b[0;34m(self)\u001b[0m\n\u001b[1;32m     55\u001b[0m     \u001b[39mreturn\u001b[39;00m\n\u001b[1;32m     57\u001b[0m \u001b[39mtry\u001b[39;00m:\n\u001b[0;32m---> 58\u001b[0m     result \u001b[39m=\u001b[39m \u001b[39mself\u001b[39;49m\u001b[39m.\u001b[39;49mfn(\u001b[39m*\u001b[39;49m\u001b[39mself\u001b[39;49m\u001b[39m.\u001b[39;49margs, \u001b[39m*\u001b[39;49m\u001b[39m*\u001b[39;49m\u001b[39mself\u001b[39;49m\u001b[39m.\u001b[39;49mkwargs)\n\u001b[1;32m     59\u001b[0m \u001b[39mexcept\u001b[39;00m \u001b[39mBaseException\u001b[39;00m \u001b[39mas\u001b[39;00m exc:\n\u001b[1;32m     60\u001b[0m     \u001b[39mself\u001b[39m\u001b[39m.\u001b[39mfuture\u001b[39m.\u001b[39mset_exception(exc)\n",
      "Cell \u001b[0;32mIn[9], line 20\u001b[0m, in \u001b[0;36mcohereExtractor.extract\u001b[0;34m(self, example)\u001b[0m\n\u001b[1;32m     19\u001b[0m \u001b[39mdef\u001b[39;00m \u001b[39mextract\u001b[39m(\u001b[39mself\u001b[39m, example):\n\u001b[0;32m---> 20\u001b[0m     extraction \u001b[39m=\u001b[39m cohere\u001b[39m.\u001b[39;49mgenerate(\n\u001b[1;32m     21\u001b[0m         model\u001b[39m=\u001b[39m\u001b[39m'\u001b[39m\u001b[39mlarge\u001b[39m\u001b[39m'\u001b[39m,\n\u001b[1;32m     22\u001b[0m         prompt\u001b[39m=\u001b[39m\u001b[39mself\u001b[39m\u001b[39m.\u001b[39mmake_prompt(example),\n\u001b[1;32m     23\u001b[0m         max_tokens\u001b[39m=\u001b[39m\u001b[39m10\u001b[39m,\n\u001b[1;32m     24\u001b[0m         temperature\u001b[39m=\u001b[39m\u001b[39m0.1\u001b[39m,\n\u001b[1;32m     25\u001b[0m         stop_sequences\u001b[39m=\u001b[39m[\u001b[39m\"\u001b[39m\u001b[39m\\n\u001b[39;00m\u001b[39m\"\u001b[39m])\n\u001b[1;32m     26\u001b[0m     \u001b[39mreturn\u001b[39;00m extraction\u001b[39m.\u001b[39mgenerations[\u001b[39m0\u001b[39m]\u001b[39m.\u001b[39mtext[:\u001b[39m-\u001b[39m\u001b[39m1\u001b[39m]\n",
      "\u001b[0;31mAttributeError\u001b[0m: module 'cohere' has no attribute 'generate'"
     ]
    }
   ],
   "source": [
    "from concurrent.futures import ThreadPoolExecutor\n",
    "\n",
    "extracted = []\n",
    "# Run the model to extract the entities\n",
    "with ThreadPoolExecutor(max_workers=8) as executor:\n",
    "    for i in executor.map(cohereMovieExtractor.extract, test_df['text']):\n",
    "        extracted.append(str(i).strip())\n",
    "# Save results\n",
    "test_df['extracted_text'] = extracted"
   ]
  },
  {
   "cell_type": "markdown",
   "id": "ca0b61fb-d97e-4623-a936-037d41935c9a",
   "metadata": {
    "id": "ca0b61fb-d97e-4623-a936-037d41935c9a"
   },
   "source": [
    "Let's look at some results:"
   ]
  },
  {
   "cell_type": "code",
   "execution_count": 18,
   "id": "55b90bd5-fbd4-427d-9fb5-088caa8b9faa",
   "metadata": {
    "colab": {
     "base_uri": "https://localhost:8080/",
     "height": 206
    },
    "id": "55b90bd5-fbd4-427d-9fb5-088caa8b9faa",
    "outputId": "15298f0d-e9eb-427f-af0d-af45438a3836",
    "tags": []
   },
   "outputs": [
    {
     "data": {
      "text/html": [
       "<div>\n",
       "<style scoped>\n",
       "    .dataframe tbody tr th:only-of-type {\n",
       "        vertical-align: middle;\n",
       "    }\n",
       "\n",
       "    .dataframe tbody tr th {\n",
       "        vertical-align: top;\n",
       "    }\n",
       "\n",
       "    .dataframe thead th {\n",
       "        text-align: right;\n",
       "    }\n",
       "</style>\n",
       "<table border=\"1\" class=\"dataframe\">\n",
       "  <thead>\n",
       "    <tr style=\"text-align: right;\">\n",
       "      <th></th>\n",
       "      <th>text</th>\n",
       "      <th>label</th>\n",
       "    </tr>\n",
       "  </thead>\n",
       "  <tbody>\n",
       "    <tr>\n",
       "      <th>0</th>\n",
       "      <td>Disney's streaming service loses some movies due to old licensing deals</td>\n",
       "      <td>none</td>\n",
       "    </tr>\n",
       "    <tr>\n",
       "      <th>1</th>\n",
       "      <td>Hi, I’m Sam Raimi, producer of THE GRUDGE which hits theaters tonight. Ask Me Anything!</td>\n",
       "      <td>The Grudge</td>\n",
       "    </tr>\n",
       "    <tr>\n",
       "      <th>2</th>\n",
       "      <td>'Parasite' Named Best Picture by Australia's AACTA Awards</td>\n",
       "      <td>Parasite</td>\n",
       "    </tr>\n",
       "    <tr>\n",
       "      <th>3</th>\n",
       "      <td>Danny Trejo To Star In Vampire Spaghetti Western ‘Death Rider in the House of Vampires’</td>\n",
       "      <td>Death Rider in the House of Vampires</td>\n",
       "    </tr>\n",
       "    <tr>\n",
       "      <th>4</th>\n",
       "      <td>I really wish the 'realistic' CGI animal trend would end.</td>\n",
       "      <td>none</td>\n",
       "    </tr>\n",
       "  </tbody>\n",
       "</table>\n",
       "</div>"
      ],
      "text/plain": [
       "                                                                                      text  \\\n",
       "0                  Disney's streaming service loses some movies due to old licensing deals   \n",
       "1  Hi, I’m Sam Raimi, producer of THE GRUDGE which hits theaters tonight. Ask Me Anything!   \n",
       "2                                'Parasite' Named Best Picture by Australia's AACTA Awards   \n",
       "3  Danny Trejo To Star In Vampire Spaghetti Western ‘Death Rider in the House of Vampires’   \n",
       "4                                I really wish the 'realistic' CGI animal trend would end.   \n",
       "\n",
       "                                  label  \n",
       "0                                  none  \n",
       "1                            The Grudge  \n",
       "2                              Parasite  \n",
       "3  Death Rider in the House of Vampires  \n",
       "4                                  none  "
      ]
     },
     "execution_count": 18,
     "metadata": {},
     "output_type": "execute_result"
    }
   ],
   "source": [
    "test_df.head()"
   ]
  },
  {
   "cell_type": "markdown",
   "id": "887f90b0-131c-47e8-803e-405114a32986",
   "metadata": {
    "id": "887f90b0-131c-47e8-803e-405114a32986"
   },
   "source": [
    "Let's calculate the accuracy by comparing to the labeled examples"
   ]
  },
  {
   "cell_type": "code",
   "execution_count": 20,
   "id": "992b3b1c-85a0-47e0-8821-d843882afc0b",
   "metadata": {
    "colab": {
     "base_uri": "https://localhost:8080/"
    },
    "id": "992b3b1c-85a0-47e0-8821-d843882afc0b",
    "outputId": "03a3670b-6354-4bd2-a195-e3c4fc55db9d"
   },
   "outputs": [
    {
     "name": "stdout",
     "output_type": "stream",
     "text": [
      "Index(['text', 'label'], dtype='object')\n"
     ]
    }
   ],
   "source": [
    "# Compare the label to the extracted text\n",
    "test_df['correct'] = (test_df['label'].str.lower() == test_df['extracted_text'].str.lower()).astype(int)\n",
    "\n",
    "# Print the accuracy\n",
    "print(f'Classification accuracy {test_df[\"correct\"].mean() *100}%')"
   ]
  },
  {
   "cell_type": "markdown",
   "id": "dd278dc2-6ec0-47a8-906e-907e0da445cf",
   "metadata": {
    "id": "dd278dc2-6ec0-47a8-906e-907e0da445cf"
   },
   "source": [
    "So it seems this prompt works well on this small test set. It's not guaranteed it will do as well on other sets, however. The prompt can be improved by trying on more data, discovering edge cases, and adding more examples to the prompt.\n",
    "\n",
    "We can look at the examples it got wrong:"
   ]
  },
  {
   "cell_type": "code",
   "execution_count": 21,
   "id": "5215a8b6-d19b-4622-af54-98bfb9b3118a",
   "metadata": {
    "colab": {
     "base_uri": "https://localhost:8080/",
     "height": 490
    },
    "id": "5215a8b6-d19b-4622-af54-98bfb9b3118a",
    "outputId": "418c73b9-e116-45a1-9e01-879d2ad976db"
   },
   "outputs": [
    {
     "ename": "KeyError",
     "evalue": "'correct'",
     "output_type": "error",
     "traceback": [
      "\u001b[0;31m---------------------------------------------------------------------------\u001b[0m",
      "\u001b[0;31mKeyError\u001b[0m                                  Traceback (most recent call last)",
      "File \u001b[0;32m~/Documents/Github/cohere-GForce/venv/lib/python3.10/site-packages/pandas/core/indexes/base.py:3790\u001b[0m, in \u001b[0;36mIndex.get_loc\u001b[0;34m(self, key)\u001b[0m\n\u001b[1;32m   3789\u001b[0m \u001b[39mtry\u001b[39;00m:\n\u001b[0;32m-> 3790\u001b[0m     \u001b[39mreturn\u001b[39;00m \u001b[39mself\u001b[39;49m\u001b[39m.\u001b[39;49m_engine\u001b[39m.\u001b[39;49mget_loc(casted_key)\n\u001b[1;32m   3791\u001b[0m \u001b[39mexcept\u001b[39;00m \u001b[39mKeyError\u001b[39;00m \u001b[39mas\u001b[39;00m err:\n",
      "File \u001b[0;32mindex.pyx:152\u001b[0m, in \u001b[0;36mpandas._libs.index.IndexEngine.get_loc\u001b[0;34m()\u001b[0m\n",
      "File \u001b[0;32mindex.pyx:181\u001b[0m, in \u001b[0;36mpandas._libs.index.IndexEngine.get_loc\u001b[0;34m()\u001b[0m\n",
      "File \u001b[0;32mpandas/_libs/hashtable_class_helper.pxi:7080\u001b[0m, in \u001b[0;36mpandas._libs.hashtable.PyObjectHashTable.get_item\u001b[0;34m()\u001b[0m\n",
      "File \u001b[0;32mpandas/_libs/hashtable_class_helper.pxi:7088\u001b[0m, in \u001b[0;36mpandas._libs.hashtable.PyObjectHashTable.get_item\u001b[0;34m()\u001b[0m\n",
      "\u001b[0;31mKeyError\u001b[0m: 'correct'",
      "\nThe above exception was the direct cause of the following exception:\n",
      "\u001b[0;31mKeyError\u001b[0m                                  Traceback (most recent call last)",
      "Cell \u001b[0;32mIn[21], line 1\u001b[0m\n\u001b[0;32m----> 1\u001b[0m test_df[test_df[\u001b[39m'\u001b[39;49m\u001b[39mcorrect\u001b[39;49m\u001b[39m'\u001b[39;49m]\u001b[39m==\u001b[39m\u001b[39m0\u001b[39m]\n",
      "File \u001b[0;32m~/Documents/Github/cohere-GForce/venv/lib/python3.10/site-packages/pandas/core/frame.py:3893\u001b[0m, in \u001b[0;36mDataFrame.__getitem__\u001b[0;34m(self, key)\u001b[0m\n\u001b[1;32m   3891\u001b[0m \u001b[39mif\u001b[39;00m \u001b[39mself\u001b[39m\u001b[39m.\u001b[39mcolumns\u001b[39m.\u001b[39mnlevels \u001b[39m>\u001b[39m \u001b[39m1\u001b[39m:\n\u001b[1;32m   3892\u001b[0m     \u001b[39mreturn\u001b[39;00m \u001b[39mself\u001b[39m\u001b[39m.\u001b[39m_getitem_multilevel(key)\n\u001b[0;32m-> 3893\u001b[0m indexer \u001b[39m=\u001b[39m \u001b[39mself\u001b[39;49m\u001b[39m.\u001b[39;49mcolumns\u001b[39m.\u001b[39;49mget_loc(key)\n\u001b[1;32m   3894\u001b[0m \u001b[39mif\u001b[39;00m is_integer(indexer):\n\u001b[1;32m   3895\u001b[0m     indexer \u001b[39m=\u001b[39m [indexer]\n",
      "File \u001b[0;32m~/Documents/Github/cohere-GForce/venv/lib/python3.10/site-packages/pandas/core/indexes/base.py:3797\u001b[0m, in \u001b[0;36mIndex.get_loc\u001b[0;34m(self, key)\u001b[0m\n\u001b[1;32m   3792\u001b[0m     \u001b[39mif\u001b[39;00m \u001b[39misinstance\u001b[39m(casted_key, \u001b[39mslice\u001b[39m) \u001b[39mor\u001b[39;00m (\n\u001b[1;32m   3793\u001b[0m         \u001b[39misinstance\u001b[39m(casted_key, abc\u001b[39m.\u001b[39mIterable)\n\u001b[1;32m   3794\u001b[0m         \u001b[39mand\u001b[39;00m \u001b[39many\u001b[39m(\u001b[39misinstance\u001b[39m(x, \u001b[39mslice\u001b[39m) \u001b[39mfor\u001b[39;00m x \u001b[39min\u001b[39;00m casted_key)\n\u001b[1;32m   3795\u001b[0m     ):\n\u001b[1;32m   3796\u001b[0m         \u001b[39mraise\u001b[39;00m InvalidIndexError(key)\n\u001b[0;32m-> 3797\u001b[0m     \u001b[39mraise\u001b[39;00m \u001b[39mKeyError\u001b[39;00m(key) \u001b[39mfrom\u001b[39;00m \u001b[39merr\u001b[39;00m\n\u001b[1;32m   3798\u001b[0m \u001b[39mexcept\u001b[39;00m \u001b[39mTypeError\u001b[39;00m:\n\u001b[1;32m   3799\u001b[0m     \u001b[39m# If we have a listlike key, _check_indexing_error will raise\u001b[39;00m\n\u001b[1;32m   3800\u001b[0m     \u001b[39m#  InvalidIndexError. Otherwise we fall through and re-raise\u001b[39;00m\n\u001b[1;32m   3801\u001b[0m     \u001b[39m#  the TypeError.\u001b[39;00m\n\u001b[1;32m   3802\u001b[0m     \u001b[39mself\u001b[39m\u001b[39m.\u001b[39m_check_indexing_error(key)\n",
      "\u001b[0;31mKeyError\u001b[0m: 'correct'"
     ]
    }
   ],
   "source": [
    "test_df[test_df['correct']==0]"
   ]
  },
  {
   "cell_type": "markdown",
   "id": "e550c48e-a68c-4883-a5a6-2c379b13c3bf",
   "metadata": {
    "id": "e550c48e-a68c-4883-a5a6-2c379b13c3bf"
   },
   "source": [
    "It indeed failed to pick up a few examples. Sometimes this uncovers edge cases and understandable mistakes (e.g. two films are mentioned in the text). \n",
    "\n",
    "\n",
    "We can look at the classification report for a more detailed look at what's included in the test set, and what the model got right and wrong:"
   ]
  },
  {
   "cell_type": "code",
   "execution_count": 23,
   "id": "e84eeadd-8aba-43a5-9461-b84305e162f2",
   "metadata": {
    "colab": {
     "base_uri": "https://localhost:8080/"
    },
    "id": "e84eeadd-8aba-43a5-9461-b84305e162f2",
    "outputId": "69d03f5e-93fb-4f66-d0af-d9969bbb9a9c"
   },
   "outputs": [
    {
     "ename": "KeyError",
     "evalue": "'extracted_text'",
     "output_type": "error",
     "traceback": [
      "\u001b[0;31m---------------------------------------------------------------------------\u001b[0m",
      "\u001b[0;31mKeyError\u001b[0m                                  Traceback (most recent call last)",
      "File \u001b[0;32m~/Documents/Github/cohere-GForce/venv/lib/python3.10/site-packages/pandas/core/indexes/base.py:3790\u001b[0m, in \u001b[0;36mIndex.get_loc\u001b[0;34m(self, key)\u001b[0m\n\u001b[1;32m   3789\u001b[0m \u001b[39mtry\u001b[39;00m:\n\u001b[0;32m-> 3790\u001b[0m     \u001b[39mreturn\u001b[39;00m \u001b[39mself\u001b[39;49m\u001b[39m.\u001b[39;49m_engine\u001b[39m.\u001b[39;49mget_loc(casted_key)\n\u001b[1;32m   3791\u001b[0m \u001b[39mexcept\u001b[39;00m \u001b[39mKeyError\u001b[39;00m \u001b[39mas\u001b[39;00m err:\n",
      "File \u001b[0;32mindex.pyx:152\u001b[0m, in \u001b[0;36mpandas._libs.index.IndexEngine.get_loc\u001b[0;34m()\u001b[0m\n",
      "File \u001b[0;32mindex.pyx:181\u001b[0m, in \u001b[0;36mpandas._libs.index.IndexEngine.get_loc\u001b[0;34m()\u001b[0m\n",
      "File \u001b[0;32mpandas/_libs/hashtable_class_helper.pxi:7080\u001b[0m, in \u001b[0;36mpandas._libs.hashtable.PyObjectHashTable.get_item\u001b[0;34m()\u001b[0m\n",
      "File \u001b[0;32mpandas/_libs/hashtable_class_helper.pxi:7088\u001b[0m, in \u001b[0;36mpandas._libs.hashtable.PyObjectHashTable.get_item\u001b[0;34m()\u001b[0m\n",
      "\u001b[0;31mKeyError\u001b[0m: 'extracted_text'",
      "\nThe above exception was the direct cause of the following exception:\n",
      "\u001b[0;31mKeyError\u001b[0m                                  Traceback (most recent call last)",
      "Cell \u001b[0;32mIn[23], line 5\u001b[0m\n\u001b[1;32m      2\u001b[0m \u001b[39mimport\u001b[39;00m \u001b[39mwarnings\u001b[39;00m\n\u001b[1;32m      3\u001b[0m warnings\u001b[39m.\u001b[39mfilterwarnings(\u001b[39m'\u001b[39m\u001b[39mignore\u001b[39m\u001b[39m'\u001b[39m)\n\u001b[0;32m----> 5\u001b[0m \u001b[39mprint\u001b[39m(classification_report(test_df[\u001b[39m'\u001b[39m\u001b[39mlabel\u001b[39m\u001b[39m'\u001b[39m]\u001b[39m.\u001b[39mstr\u001b[39m.\u001b[39mlower(), test_df[\u001b[39m'\u001b[39;49m\u001b[39mextracted_text\u001b[39;49m\u001b[39m'\u001b[39;49m]\u001b[39m.\u001b[39mstr\u001b[39m.\u001b[39mlower()))\n",
      "File \u001b[0;32m~/Documents/Github/cohere-GForce/venv/lib/python3.10/site-packages/pandas/core/frame.py:3893\u001b[0m, in \u001b[0;36mDataFrame.__getitem__\u001b[0;34m(self, key)\u001b[0m\n\u001b[1;32m   3891\u001b[0m \u001b[39mif\u001b[39;00m \u001b[39mself\u001b[39m\u001b[39m.\u001b[39mcolumns\u001b[39m.\u001b[39mnlevels \u001b[39m>\u001b[39m \u001b[39m1\u001b[39m:\n\u001b[1;32m   3892\u001b[0m     \u001b[39mreturn\u001b[39;00m \u001b[39mself\u001b[39m\u001b[39m.\u001b[39m_getitem_multilevel(key)\n\u001b[0;32m-> 3893\u001b[0m indexer \u001b[39m=\u001b[39m \u001b[39mself\u001b[39;49m\u001b[39m.\u001b[39;49mcolumns\u001b[39m.\u001b[39;49mget_loc(key)\n\u001b[1;32m   3894\u001b[0m \u001b[39mif\u001b[39;00m is_integer(indexer):\n\u001b[1;32m   3895\u001b[0m     indexer \u001b[39m=\u001b[39m [indexer]\n",
      "File \u001b[0;32m~/Documents/Github/cohere-GForce/venv/lib/python3.10/site-packages/pandas/core/indexes/base.py:3797\u001b[0m, in \u001b[0;36mIndex.get_loc\u001b[0;34m(self, key)\u001b[0m\n\u001b[1;32m   3792\u001b[0m     \u001b[39mif\u001b[39;00m \u001b[39misinstance\u001b[39m(casted_key, \u001b[39mslice\u001b[39m) \u001b[39mor\u001b[39;00m (\n\u001b[1;32m   3793\u001b[0m         \u001b[39misinstance\u001b[39m(casted_key, abc\u001b[39m.\u001b[39mIterable)\n\u001b[1;32m   3794\u001b[0m         \u001b[39mand\u001b[39;00m \u001b[39many\u001b[39m(\u001b[39misinstance\u001b[39m(x, \u001b[39mslice\u001b[39m) \u001b[39mfor\u001b[39;00m x \u001b[39min\u001b[39;00m casted_key)\n\u001b[1;32m   3795\u001b[0m     ):\n\u001b[1;32m   3796\u001b[0m         \u001b[39mraise\u001b[39;00m InvalidIndexError(key)\n\u001b[0;32m-> 3797\u001b[0m     \u001b[39mraise\u001b[39;00m \u001b[39mKeyError\u001b[39;00m(key) \u001b[39mfrom\u001b[39;00m \u001b[39merr\u001b[39;00m\n\u001b[1;32m   3798\u001b[0m \u001b[39mexcept\u001b[39;00m \u001b[39mTypeError\u001b[39;00m:\n\u001b[1;32m   3799\u001b[0m     \u001b[39m# If we have a listlike key, _check_indexing_error will raise\u001b[39;00m\n\u001b[1;32m   3800\u001b[0m     \u001b[39m#  InvalidIndexError. Otherwise we fall through and re-raise\u001b[39;00m\n\u001b[1;32m   3801\u001b[0m     \u001b[39m#  the TypeError.\u001b[39;00m\n\u001b[1;32m   3802\u001b[0m     \u001b[39mself\u001b[39m\u001b[39m.\u001b[39m_check_indexing_error(key)\n",
      "\u001b[0;31mKeyError\u001b[0m: 'extracted_text'"
     ]
    }
   ],
   "source": [
    "from sklearn.metrics import classification_report\n",
    "import warnings\n",
    "warnings.filterwarnings('ignore')\n",
    "\n",
    "print(classification_report(test_df['label'].str.lower(), test_df['extracted_text'].str.lower()))"
   ]
  },
  {
   "cell_type": "markdown",
   "id": "197f724e-aa03-48a2-aafc-9da2fec0d720",
   "metadata": {
    "id": "197f724e-aa03-48a2-aafc-9da2fec0d720"
   },
   "source": [
    "This type of extraction is interesting because it doesn't just blindly look at the text. The model has picked up on movie information during its pretraining process and that helps it understand the task from only a few examples.\n",
    "\n",
    "You can think about extending this to other subreddits, to extract other kinds of entities and information. [Let us know in the forum](https://community.cohere.ai/) what you experiment with and what kinds of results you see!\n",
    "\n",
    "Happy building!"
   ]
  }
 ],
 "metadata": {
  "colab": {
   "collapsed_sections": [],
   "name": "Entity_Extraction_With_Generative_Models.ipynb",
   "provenance": []
  },
  "kernelspec": {
   "display_name": "Python 3.10.10 ('venv': venv)",
   "language": "python",
   "name": "python3"
  },
  "language_info": {
   "codemirror_mode": {
    "name": "ipython",
    "version": 3
   },
   "file_extension": ".py",
   "mimetype": "text/x-python",
   "name": "python",
   "nbconvert_exporter": "python",
   "pygments_lexer": "ipython3",
   "version": "3.10.10"
  },
  "vscode": {
   "interpreter": {
    "hash": "d68623e4c705557d822535fe1194d747894a2ee01d5a39b90e993ebf0f834d67"
   }
  }
 },
 "nbformat": 4,
 "nbformat_minor": 5
}
